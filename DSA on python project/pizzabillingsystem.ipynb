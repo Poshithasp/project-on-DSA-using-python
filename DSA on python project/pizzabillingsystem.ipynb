{
 "cells": [
  {
   "cell_type": "code",
   "execution_count": 2,
   "id": "8ef85956-536b-4367-bfec-194bac2317ce",
   "metadata": {},
   "outputs": [
    {
     "name": "stdout",
     "output_type": "stream",
     "text": [
      "Welcome to the Pizza Billing System\n"
     ]
    },
    {
     "name": "stdin",
     "output_type": "stream",
     "text": [
      "Enter pizza size (small, medium, large):  medium\n",
      "Enter toppings (comma separated):  capsicum,paneer\n"
     ]
    },
    {
     "name": "stdout",
     "output_type": "stream",
     "text": [
      "Total price for your pizza is: $19\n"
     ]
    }
   ],
   "source": [
    "class Pizza:\n",
    "    def __init__(self, size, toppings):\n",
    "        self.size = size\n",
    "        self.toppings = toppings\n",
    "\n",
    "    def calculate_price(self):\n",
    "        base_price = 0\n",
    "        if self.size == \"small\":\n",
    "            base_price = 10\n",
    "        elif self.size == \"medium\":\n",
    "            base_price = 15\n",
    "        elif self.size == \"large\":\n",
    "            base_price = 20\n",
    "\n",
    "        topping_price = len(self.toppings) * 2\n",
    "\n",
    "        total_price = base_price + topping_price\n",
    "        return total_price\n",
    "\n",
    "def main():\n",
    "    print(\"Welcome to the Pizza Billing System\")\n",
    "    size = input(\"Enter pizza size (small, medium, large): \")\n",
    "    toppings = input(\"Enter toppings (comma separated): \").split(\",\")\n",
    "    toppings = [topping.strip() for topping in toppings]\n",
    "\n",
    "    pizza = Pizza(size, toppings)\n",
    "    price = pizza.calculate_price()\n",
    "    print(f\"Total price for your pizza is: ${price}\")\n",
    "\n",
    "if __name__ == \"__main__\":\n",
    "    main()"
   ]
  },
  {
   "cell_type": "code",
   "execution_count": null,
   "id": "4e00a724-2cd0-40df-bb00-0ba15b8deb34",
   "metadata": {},
   "outputs": [],
   "source": []
  }
 ],
 "metadata": {
  "kernelspec": {
   "display_name": "Python 3 (ipykernel)",
   "language": "python",
   "name": "python3"
  },
  "language_info": {
   "codemirror_mode": {
    "name": "ipython",
    "version": 3
   },
   "file_extension": ".py",
   "mimetype": "text/x-python",
   "name": "python",
   "nbconvert_exporter": "python",
   "pygments_lexer": "ipython3",
   "version": "3.11.7"
  }
 },
 "nbformat": 4,
 "nbformat_minor": 5
}
