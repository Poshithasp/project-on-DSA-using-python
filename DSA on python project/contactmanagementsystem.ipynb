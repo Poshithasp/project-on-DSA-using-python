{
 "cells": [
  {
   "cell_type": "code",
   "execution_count": 13,
   "id": "f31cc3ca-9fc8-48eb-975f-14776b337139",
   "metadata": {},
   "outputs": [
    {
     "name": "stdout",
     "output_type": "stream",
     "text": [
      "\n",
      "Menu:\n",
      "1. Add Contact\n",
      "2. Search Contact\n",
      "3. Update Contact\n",
      "4. Delete Contact\n",
      "5. Sort Contacts\n",
      "6. Exit\n"
     ]
    },
    {
     "name": "stdin",
     "output_type": "stream",
     "text": [
      "Enter your choice:  1\n",
      "Enter name:  allice\n",
      "Enter phone number:  1234567890\n",
      "Enter email:  allice@gmail.com\n"
     ]
    },
    {
     "name": "stdout",
     "output_type": "stream",
     "text": [
      "Contact added successfully!\n",
      "\n",
      "Menu:\n",
      "1. Add Contact\n",
      "2. Search Contact\n",
      "3. Update Contact\n",
      "4. Delete Contact\n",
      "5. Sort Contacts\n",
      "6. Exit\n"
     ]
    },
    {
     "name": "stdin",
     "output_type": "stream",
     "text": [
      "Enter your choice:  1\n",
      "Enter name:  bob\n",
      "Enter phone number:  1234567890\n",
      "Enter email:  bob@gmail.com\n"
     ]
    },
    {
     "name": "stdout",
     "output_type": "stream",
     "text": [
      "Contact added successfully!\n",
      "\n",
      "Menu:\n",
      "1. Add Contact\n",
      "2. Search Contact\n",
      "3. Update Contact\n",
      "4. Delete Contact\n",
      "5. Sort Contacts\n",
      "6. Exit\n"
     ]
    },
    {
     "name": "stdin",
     "output_type": "stream",
     "text": [
      "Enter your choice:  1\n",
      "Enter name:  smith\n",
      "Enter phone number:  2143658709\n",
      "Enter email:  smith@gmail.com\n"
     ]
    },
    {
     "name": "stdout",
     "output_type": "stream",
     "text": [
      "Contact added successfully!\n",
      "\n",
      "Menu:\n",
      "1. Add Contact\n",
      "2. Search Contact\n",
      "3. Update Contact\n",
      "4. Delete Contact\n",
      "5. Sort Contacts\n",
      "6. Exit\n"
     ]
    },
    {
     "name": "stdin",
     "output_type": "stream",
     "text": [
      "Enter your choice:  3\n",
      "Enter name to update:  allice\n"
     ]
    },
    {
     "name": "stdout",
     "output_type": "stream",
     "text": [
      "Contact found: <__main__.Contact object at 0x0000018254B7FD90>\n"
     ]
    },
    {
     "name": "stdin",
     "output_type": "stream",
     "text": [
      "Enter new phone number:  1234567890\n",
      "Enter new email:  allice@gmail.com\n"
     ]
    },
    {
     "name": "stdout",
     "output_type": "stream",
     "text": [
      "Contact updated successfully!\n",
      "\n",
      "Menu:\n",
      "1. Add Contact\n",
      "2. Search Contact\n",
      "3. Update Contact\n",
      "4. Delete Contact\n",
      "5. Sort Contacts\n",
      "6. Exit\n"
     ]
    },
    {
     "name": "stdin",
     "output_type": "stream",
     "text": [
      "Enter your choice:  \n"
     ]
    },
    {
     "name": "stdout",
     "output_type": "stream",
     "text": [
      "Invalid choice. Please try again.\n",
      "\n",
      "Menu:\n",
      "1. Add Contact\n",
      "2. Search Contact\n",
      "3. Update Contact\n",
      "4. Delete Contact\n",
      "5. Sort Contacts\n",
      "6. Exit\n"
     ]
    },
    {
     "name": "stdin",
     "output_type": "stream",
     "text": [
      "Enter your choice:  2\n",
      "Enter name to search:  bob\n"
     ]
    },
    {
     "name": "stdout",
     "output_type": "stream",
     "text": [
      "Contact found: <__main__.Contact object at 0x0000018254DDBF50>\n",
      "\n",
      "Menu:\n",
      "1. Add Contact\n",
      "2. Search Contact\n",
      "3. Update Contact\n",
      "4. Delete Contact\n",
      "5. Sort Contacts\n",
      "6. Exit\n"
     ]
    },
    {
     "name": "stdin",
     "output_type": "stream",
     "text": [
      "Enter your choice:  4\n",
      "Enter name to delete:  smith\n"
     ]
    },
    {
     "name": "stdout",
     "output_type": "stream",
     "text": [
      "Contact deleted successfully!\n",
      "\n",
      "Menu:\n",
      "1. Add Contact\n",
      "2. Search Contact\n",
      "3. Update Contact\n",
      "4. Delete Contact\n",
      "5. Sort Contacts\n",
      "6. Exit\n"
     ]
    },
    {
     "name": "stdin",
     "output_type": "stream",
     "text": [
      "Enter your choice:  5\n"
     ]
    },
    {
     "name": "stdout",
     "output_type": "stream",
     "text": [
      "<__main__.Contact object at 0x0000018254B7FD90>\n",
      "<__main__.Contact object at 0x0000018254DDBF50>\n",
      "\n",
      "Menu:\n",
      "1. Add Contact\n",
      "2. Search Contact\n",
      "3. Update Contact\n",
      "4. Delete Contact\n",
      "5. Sort Contacts\n",
      "6. Exit\n"
     ]
    },
    {
     "name": "stdin",
     "output_type": "stream",
     "text": [
      "Enter your choice:  6\n"
     ]
    }
   ],
   "source": [
    "class Contact:\n",
    "    def __init__(self,name,phone,email):\n",
    "        self.name=name\n",
    "        self.phone=phone\n",
    "        self.email=email\n",
    "\n",
    "    def _str_(self):\n",
    "        return f\"Name:{self.name}, Phone:{self.phone}, Email:{self.email}\"\n",
    "\n",
    "\n",
    "class Node:\n",
    "    def __init__(self,contact):\n",
    "        self.left=None\n",
    "        self.right=None\n",
    "        self.contact=contact\n",
    "\n",
    "    def insert(self,contact):\n",
    "        if contact.name<self.contact.name:\n",
    "            if self.left is None:\n",
    "                self.left=Node(contact)\n",
    "            else:\n",
    "                self.left.insert(contact)\n",
    "        elif contact.name>self.contact.name:\n",
    "            if self.right is None:\n",
    "                self.right=Node(contact)\n",
    "            else:\n",
    "                self.right.insert(contact)\n",
    "\n",
    "    def search(self,name):\n",
    "        if self.contact.name==name:\n",
    "            return self\n",
    "        if name<self.contact.name:\n",
    "            if self.left is None:\n",
    "                return None\n",
    "            return self.left.search(name)\n",
    "        if name>self.contact.name:\n",
    "            if self.right is None:\n",
    "                return None\n",
    "            return self.right.search(name)\n",
    "\n",
    "# If the name to delete is less than the current node's contact name, search in the left subtree\n",
    "\n",
    "    def delete(self,name):\n",
    "        if name<self.contact.name:\n",
    "            if self.left is not None:\n",
    "                self.left=self.left.delete(name)\n",
    "\n",
    " # If the name to delete is greater than the current node's contact name, search in the right subtree\n",
    "\n",
    "        elif name>self.contact.name:\n",
    "            if self.right is not None:\n",
    "                self.right=self.right.delete(name)\n",
    "\n",
    "# If the name to delete is equal to the current node's contact name, handle the deletion\n",
    "\n",
    "        else:\n",
    "# Case 1: Node has no left child, return the right child (could be None or another node)\n",
    "            if self.left is None:\n",
    "                return self.right\n",
    "# Case 2: Node has no right child, return the left child (could be None or another node)\n",
    "\n",
    "            elif self.right is None:\n",
    "                return self.left\n",
    "# Case 3: Node has two children\n",
    "            else:\n",
    "                successor=self._min_value_node(self.right)\n",
    "                self.contact=successor.contact\n",
    "                self.right=self.right.delete(successor.contact.name)\n",
    "        return self\n",
    "\n",
    "    def _min_value_node(self,node):\n",
    "        current=node\n",
    "        while current.left is not None:\n",
    "            current=current.left\n",
    "        return current\n",
    "# first traverse the the left subtree and store it in the result and then store the root node in result aand then store the right subtree in result\n",
    "    def inorder_traversal(self,node,result):\n",
    "        if node:\n",
    "            self.inorder_traversal(node.left,result)\n",
    "            result.append(node.contact)\n",
    "            self.inorder_traversal(node.right,result)\n",
    "\n",
    "#\n",
    "class BinarySearchTree:\n",
    "    def __init__(self):\n",
    "        self.root=None\n",
    "\n",
    "    def insert(self,contact):\n",
    "        if self.root is None:\n",
    "            self.root=Node(contact)\n",
    "        else:\n",
    "            self.root.insert(contact)\n",
    "\n",
    "    def search(self,name):\n",
    "        if self.root is None:\n",
    "            return None\n",
    "        return self.root.search(name)\n",
    "\n",
    "    def delete(self,name):\n",
    "        if self.root is not None:\n",
    "            self.root=self.root.delete(name)\n",
    "\n",
    "    def sort_contacts(self):\n",
    "        result=[]\n",
    "        if self.root is not None:\n",
    "            self.root.inorder_traversal(self.root,result)\n",
    "        return result\n",
    "\n",
    "# helper functions to make it easy for the user to enter and work with the contacts\n",
    "def add_contact(bst):\n",
    "    name = input(\"Enter name: \")\n",
    "    phone = input(\"Enter phone number: \")\n",
    "    email = input(\"Enter email: \")\n",
    "    contact = Contact(name,phone,email)\n",
    "    bst.insert(contact)\n",
    "    print(\"Contact added successfully!\")\n",
    "\n",
    "\n",
    "def search_contact(bst):\n",
    "    name = input(\"Enter name to search: \")\n",
    "    node = bst.search(name)\n",
    "    if node:\n",
    "        print(\"Contact found:\",node.contact)\n",
    "    else:\n",
    "        print(\"Contact not found.\")\n",
    "\n",
    "\n",
    "def update_contact(bst):\n",
    "    name = input(\"Enter name to update: \")\n",
    "    node = bst.search(name)\n",
    "    if node:\n",
    "        print(\"Contact found:\",node.contact)\n",
    "        new_phone = input(\"Enter new phone number: \")\n",
    "        new_email = input(\"Enter new email: \")\n",
    "        node.contact.phone=new_phone\n",
    "        node.contact.email=new_email\n",
    "        print(\"Contact updated successfully!\")\n",
    "    else:\n",
    "        print(\"Contact not found.\")\n",
    "\n",
    "\n",
    "def delete_contact(bst):\n",
    "    name = input(\"Enter name to delete: \")\n",
    "    bst.delete(name)\n",
    "    print(\"Contact deleted successfully!\")\n",
    "\n",
    "\n",
    "def sort_contacts(bst):\n",
    "    contacts = bst.sort_contacts()\n",
    "    for contact in contacts:\n",
    "        print(contact)\n",
    "\n",
    "\n",
    "if __name__ == \"__main__\":\n",
    "    bst = BinarySearchTree()\n",
    "    while True:\n",
    "        print(\"\\nMenu:\")\n",
    "        print(\"1. Add Contact\")\n",
    "        print(\"2. Search Contact\")\n",
    "        print(\"3. Update Contact\")\n",
    "        print(\"4. Delete Contact\")\n",
    "        print(\"5. Sort Contacts\")\n",
    "        print(\"6. Exit\")\n",
    "        choice = input(\"Enter your choice: \")\n",
    "\n",
    "        if choice == '1':\n",
    "            add_contact(bst)\n",
    "        elif choice == '2':\n",
    "            search_contact(bst)\n",
    "        elif choice == '3':\n",
    "            update_contact(bst)\n",
    "        elif choice == '4':\n",
    "            delete_contact(bst)\n",
    "        elif choice == '5':\n",
    "            sort_contacts(bst)\n",
    "        elif choice == '6':\n",
    "            break\n",
    "        else:\n",
    "            print(\"Invalid choice. Please try again.\")"
   ]
  },
  {
   "cell_type": "code",
   "execution_count": null,
   "id": "b251d6aa-e459-44c7-9f81-385be5ca9c0d",
   "metadata": {},
   "outputs": [],
   "source": []
  }
 ],
 "metadata": {
  "kernelspec": {
   "display_name": "Python 3 (ipykernel)",
   "language": "python",
   "name": "python3"
  },
  "language_info": {
   "codemirror_mode": {
    "name": "ipython",
    "version": 3
   },
   "file_extension": ".py",
   "mimetype": "text/x-python",
   "name": "python",
   "nbconvert_exporter": "python",
   "pygments_lexer": "ipython3",
   "version": "3.11.7"
  }
 },
 "nbformat": 4,
 "nbformat_minor": 5
}
